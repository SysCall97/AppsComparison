{
 "cells": [
  {
   "cell_type": "code",
   "execution_count": 4,
   "metadata": {},
   "outputs": [],
   "source": [
    "import time\n",
    "import re\n",
    "import os\n",
    "import numpy as np\n",
    "import pandas as pd\n",
    "from selenium import webdriver\n",
    "from selenium.webdriver.common.by import By\n",
    "\n",
    "country_dict = { \"Sweden\": \"SE\" }\n",
    "\n",
    "dates = ['2024-12-30']\n",
    "\n",
    "categories = { 'Education': '6017' }\n",
    "base_url = 'https://app.sensortower.com/top-charts?os=ios&device=iphone&'\n",
    "columns = [\"Rank\", \"Country\", \"Name\", \"Publisher\", \"Category\", \"Rating\", \"Price\", \"Rating_count\", \"Date\"]"
   ]
  },
  {
   "cell_type": "code",
   "execution_count": 5,
   "metadata": {},
   "outputs": [],
   "source": [
    "def extract_price_value(price_string):\n",
    "    # Regular expression to match integers or floats\n",
    "    match = re.search(r'\\b\\d+(\\.\\d+)?\\b', price_string)\n",
    "    if match:\n",
    "        return float(match.group())  # Convert to float\n",
    "    return 0\n",
    "\n",
    "def extract_rating_value(rating_string):\n",
    "    match = re.search(r\"(\\d+\\.\\d+)\", rating_string)\n",
    "    if match:\n",
    "        return float(match.group(1))\n",
    "    return 0"
   ]
  },
  {
   "cell_type": "code",
   "execution_count": 21,
   "metadata": {},
   "outputs": [],
   "source": [
    "def extract_data_for_country(country, category, date):\n",
    "    url = base_url + f'country={country_dict[country]}&category={categories[category]}&date={date}'\n",
    "    driver = webdriver.Chrome()\n",
    "    driver.maximize_window()\n",
    "    driver.get(url)\n",
    "    time.sleep(3)\n",
    "    rows = driver.find_element(By.TAG_NAME, 'table').find_element(By.TAG_NAME, 'tbody').find_elements(By.TAG_NAME, 'tr')\n",
    "    records = []\n",
    "    for idx, row in enumerate(rows):\n",
    "        data = row.find_elements(By.TAG_NAME, 'td')\n",
    "        paid_app_data = data[2].find_element(By.TAG_NAME, 'span').find_element(By.TAG_NAME, 'div').find_element(By.TAG_NAME, 'div')\n",
    "        data = paid_app_data.text.split('\\n')\n",
    "        \n",
    "        if len(data) < 5:\n",
    "            continue\n",
    "\n",
    "        rating_data = paid_app_data.find_elements(By.TAG_NAME, 'div')[4].find_element(By.TAG_NAME, 'span').get_attribute('aria-label')\n",
    "        ls = [idx + 1, country, data[0], data[1], category, extract_rating_value(rating_string=rating_data), extract_price_value(data[4]), int(data[2].strip(\"()\").replace(\",\", \"\")), date]\n",
    "        record = dict(zip(columns, ls))\n",
    "        records.append(record)\n",
    "    driver.quit()\n",
    "    return records"
   ]
  },
  {
   "cell_type": "code",
   "execution_count": 22,
   "metadata": {},
   "outputs": [
    {
     "name": "stdout",
     "output_type": "stream",
     "text": [
      "[{'Rank': 1, 'Country': 'Sweden', 'Name': 'Ta Körkort', 'Publisher': 'Teoriappar Sverige AB', 'Category': 'Education', 'Rating': 4.78, 'Price': 299.0, 'Rating_count': 28182, 'Date': '2024-12-30'}, {'Rank': 2, 'Country': 'Sweden', 'Name': 'Ta AM-Körkort', 'Publisher': 'Teoriappar Sverige AB', 'Category': 'Education', 'Rating': 4.78, 'Price': 199.0, 'Rating_count': 3108, 'Date': '2024-12-30'}, {'Rank': 3, 'Country': 'Sweden', 'Name': 'Jägarexamen', 'Publisher': 'Boboshi AB', 'Category': 'Education', 'Rating': 4.75, 'Price': 299.0, 'Rating_count': 3974, 'Date': '2024-12-30'}, {'Rank': 4, 'Country': 'Sweden', 'Name': 'Babblarna', 'Publisher': 'Filimundus AB', 'Category': 'Education', 'Rating': 3.14, 'Price': 39.0, 'Rating_count': 51, 'Date': '2024-12-30'}, {'Rank': 5, 'Country': 'Sweden', 'Name': 'iKörkort', 'Publisher': 'Boboshi AB', 'Category': 'Education', 'Rating': 4.77, 'Price': 199.0, 'Rating_count': 3353, 'Date': '2024-12-30'}, {'Rank': 6, 'Country': 'Sweden', 'Name': 'AnkiMobile Flashcards', 'Publisher': 'Ankitects Pty Ltd', 'Category': 'Education', 'Rating': 4.65, 'Price': 299.0, 'Rating_count': 69, 'Date': '2024-12-30'}, {'Rank': 8, 'Country': 'Sweden', 'Name': 'SkyView®', 'Publisher': 'Terminal Eleven LLC', 'Category': 'Education', 'Rating': 4.42, 'Price': 39.0, 'Rating_count': 96, 'Date': '2024-12-30'}, {'Rank': 9, 'Country': 'Sweden', 'Name': 'Ta BE-Körkort', 'Publisher': 'Teoriappar Sverige AB', 'Category': 'Education', 'Rating': 4.54, 'Price': 299.0, 'Rating_count': 1383, 'Date': '2024-12-30'}, {'Rank': 10, 'Country': 'Sweden', 'Name': 'Pyssla med Mamma Mu och Kråkan', 'Publisher': 'Filimundus AB', 'Category': 'Education', 'Rating': 4.25, 'Price': 29.0, 'Rating_count': 4, 'Date': '2024-12-30'}, {'Rank': 11, 'Country': 'Sweden', 'Name': 'Högskoleprovet 2,00', 'Publisher': 'Teoriappar Sverige AB', 'Category': 'Education', 'Rating': 4.6, 'Price': 299.0, 'Rating_count': 1185, 'Date': '2024-12-30'}, {'Rank': 12, 'Country': 'Sweden', 'Name': 'iKörkort MC', 'Publisher': 'Boboshi AB', 'Category': 'Education', 'Rating': 4.76, 'Price': 249.0, 'Rating_count': 2499, 'Date': '2024-12-30'}, {'Rank': 13, 'Country': 'Sweden', 'Name': 'Equibodybalance', 'Publisher': 'Hästrehab i Sverige AB', 'Category': 'Education', 'Rating': 4.36, 'Price': 249.0, 'Rating_count': 76, 'Date': '2024-12-30'}, {'Rank': 14, 'Country': 'Sweden', 'Name': 'Pettsons Uppfinningar', 'Publisher': 'Filimundus AB', 'Category': 'Education', 'Rating': 3.68, 'Price': 39.0, 'Rating_count': 47, 'Date': '2024-12-30'}, {'Rank': 15, 'Country': 'Sweden', 'Name': 'Pettsons Uppfinningar Deluxe', 'Publisher': 'Filimundus AB', 'Category': 'Education', 'Rating': 3.98, 'Price': 79.0, 'Rating_count': 85, 'Date': '2024-12-30'}, {'Rank': 16, 'Country': 'Sweden', 'Name': 'Monster Truck Kit', 'Publisher': 'FUNOBI LTD', 'Category': 'Education', 'Rating': 4.13, 'Price': 49.0, 'Rating_count': 102, 'Date': '2024-12-30'}, {'Rank': 17, 'Country': 'Sweden', 'Name': 'iKörkort Moped', 'Publisher': 'Boboshi AB', 'Category': 'Education', 'Rating': 4.8, 'Price': 149.0, 'Rating_count': 196, 'Date': '2024-12-30'}, {'Rank': 18, 'Country': 'Sweden', 'Name': 'Teori Taxi Frågor', 'Publisher': 'Feras Alnshawy', 'Category': 'Education', 'Rating': 4.38, 'Price': 249.0, 'Rating_count': 61, 'Date': '2024-12-30'}, {'Rank': 19, 'Country': 'Sweden', 'Name': 'TAKK+', 'Publisher': 'Bam Språkteknik', 'Category': 'Education', 'Rating': 3.0, 'Price': 79.0, 'Rating_count': 1, 'Date': '2024-12-30'}, {'Rank': 20, 'Country': 'Sweden', 'Name': 'Gruffalo: Games', 'Publisher': 'Magic Light Pictures Ltd.', 'Category': 'Education', 'Rating': 5.0, 'Price': 39.0, 'Rating_count': 3, 'Date': '2024-12-30'}, {'Rank': 21, 'Country': 'Sweden', 'Name': 'Stjärna 3D', 'Publisher': 'Sanville Software', 'Category': 'Education', 'Rating': 4.59, 'Price': 29.0, 'Rating_count': 261, 'Date': '2024-12-30'}, {'Rank': 22, 'Country': 'Sweden', 'Name': 'Stjärna 3D+', 'Publisher': 'Sanville Software', 'Category': 'Education', 'Rating': 4.64, 'Price': 39.0, 'Rating_count': 547, 'Date': '2024-12-30'}, {'Rank': 23, 'Country': 'Sweden', 'Name': 'PANTHEON - Official', 'Publisher': \"D'Uva Workshop s.r.l.\", 'Category': 'Education', 'Rating': 0.0, 'Price': 29.0, 'Rating_count': 0, 'Date': '2024-12-30'}, {'Rank': 24, 'Country': 'Sweden', 'Name': 'NFB Båtintyg', 'Publisher': 'Nämnden för båtlivsutbildning', 'Category': 'Education', 'Rating': 3.22, 'Price': 99.0, 'Rating_count': 23, 'Date': '2024-12-30'}, {'Rank': 25, 'Country': 'Sweden', 'Name': 'Ta MC-Körkort', 'Publisher': 'Teoriappar Sverige AB', 'Category': 'Education', 'Rating': 4.62, 'Price': 299.0, 'Rating_count': 1541, 'Date': '2024-12-30'}]\n"
     ]
    }
   ],
   "source": [
    "data = extract_data_for_country(country=\"Sweden\", category='Education', date=dates[-1])\n",
    "print(len(data))"
   ]
  },
  {
   "cell_type": "code",
   "execution_count": null,
   "metadata": {},
   "outputs": [],
   "source": []
  }
 ],
 "metadata": {
  "kernelspec": {
   "display_name": "venv",
   "language": "python",
   "name": "python3"
  },
  "language_info": {
   "codemirror_mode": {
    "name": "ipython",
    "version": 3
   },
   "file_extension": ".py",
   "mimetype": "text/x-python",
   "name": "python",
   "nbconvert_exporter": "python",
   "pygments_lexer": "ipython3",
   "version": "3.12.4"
  }
 },
 "nbformat": 4,
 "nbformat_minor": 2
}
